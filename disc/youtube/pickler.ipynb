{
 "cells": [
  {
   "cell_type": "markdown",
   "metadata": {},
   "source": [
    "# Credential pickler\n",
    "\n",
    "Takes a plain text credential and pickles it so that it's a binary object that can't be viewed directly. Leaving off the file extension obfuscates the type of the file, making it less likely that someone will figure out what it is."
   ]
  },
  {
   "cell_type": "code",
   "execution_count": null,
   "metadata": {},
   "outputs": [],
   "source": [
    "import pickle\n",
    "\n",
    "with open('linked-data_github_token.txt', 'rt', encoding='utf-8') as file_object:\n",
    "    token_text = file_object.read()\n",
    "print(token_text)\n",
    "\n",
    "with open('010e0da8-8793-439d-845c-66d937b040a1.', 'wb') as token:\n",
    "    pickle.dump(token_text, token)"
   ]
  },
  {
   "cell_type": "markdown",
   "metadata": {},
   "source": [
    "Test the mechanism that the AWS lambda will use to decode the binary file object."
   ]
  },
  {
   "cell_type": "code",
   "execution_count": null,
   "metadata": {},
   "outputs": [],
   "source": [
    "with open('010e0da8-8793-439d-845c-66d937b040a1.', 'rb') as file_object:\n",
    "    token = file_object.read()\n",
    "creds = pickle.loads(token) # This is the code that the Lambda will use\n",
    "print(creds)"
   ]
  },
  {
   "cell_type": "code",
   "execution_count": null,
   "metadata": {},
   "outputs": [],
   "source": []
  }
 ],
 "metadata": {
  "kernelspec": {
   "display_name": "Python 3",
   "language": "python",
   "name": "python3"
  },
  "language_info": {
   "codemirror_mode": {
    "name": "ipython",
    "version": 3
   },
   "file_extension": ".py",
   "mimetype": "text/x-python",
   "name": "python",
   "nbconvert_exporter": "python",
   "pygments_lexer": "ipython3",
   "version": "3.8.5"
  }
 },
 "nbformat": 4,
 "nbformat_minor": 4
}
